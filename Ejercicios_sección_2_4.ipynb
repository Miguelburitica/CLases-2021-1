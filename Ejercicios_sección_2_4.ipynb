{
  "nbformat": 4,
  "nbformat_minor": 0,
  "metadata": {
    "colab": {
      "name": "Ejercicios_sección_2.4.ipynb",
      "provenance": [],
      "collapsed_sections": [],
      "include_colab_link": true
    },
    "kernelspec": {
      "name": "python3",
      "display_name": "Python 3"
    },
    "language_info": {
      "name": "python"
    }
  },
  "cells": [
    {
      "cell_type": "markdown",
      "metadata": {
        "id": "view-in-github",
        "colab_type": "text"
      },
      "source": [
        "<a href=\"https://colab.research.google.com/github/Miguelburitica/CLases-2021-1/blob/main/Ejercicios_secci%C3%B3n_2_4.ipynb\" target=\"_parent\"><img src=\"https://colab.research.google.com/assets/colab-badge.svg\" alt=\"Open In Colab\"/></a>"
      ]
    },
    {
      "cell_type": "code",
      "metadata": {
        "id": "lHKRihktvKcX",
        "colab": {
          "base_uri": "https://localhost:8080/"
        },
        "outputId": "0bb21025-5691-4606-e6f3-b42df23df76e"
      },
      "source": [
        "%load_ext rpy2.ipython"
      ],
      "execution_count": null,
      "outputs": [
        {
          "output_type": "stream",
          "text": [
            "The rpy2.ipython extension is already loaded. To reload it, use:\n",
            "  %reload_ext rpy2.ipython\n"
          ],
          "name": "stdout"
        }
      ]
    },
    {
      "cell_type": "markdown",
      "metadata": {
        "id": "c2I1qhOIvL4c"
      },
      "source": [
        "46. Suponga que un individuo es seleccionado al azar de la población de todos los adultos varones que viven en Estados\n",
        "Unidos. Sea $A$ el evento en que el individuo seleccionado\n",
        "tiene una estatura de más de $6_{ft}$ y sea $B$ el evento\n",
        "en que el individuo seleccionado es un jugador profesional\n",
        "de básquetbol. ¿Cuál piensa que es más grande, $P(A|B)$ o\n",
        "$P(B|A)$? ¿Por qué?\n",
        "\n",
        "$Solución:$\n",
        "  $P(A|B)$ es la probabilidad de que un individuo tenga una altura de más de $6ft$ ($1.82m$) dado que es un jugador de basquetbol, mientras que P(B|A) representa la probabilidad de que un individuo juegue basquetbol dado que tiene altura de m´as de 6 pies. Como en general los jugadores de basquetbol son muy altos, se piensa que P(A|B) > P(B|A).\n"
      ]
    },
    {
      "cell_type": "markdown",
      "metadata": {
        "id": "nqwjvCGs20Dy"
      },
      "source": [
        "48. Reconsidere la situación del sistema defectuoso descrito en\n",
        "el ejercicio **26** *(sección 2.2)*.\n",
        "\n",
        "  $a$. Dado que el sistema tiene un defecto de tipo 1, ¿cuál es la probabilidad de que tenga un defecto de tipo 2?\n",
        "\n",
        "  $b$. Dado que el sistema tiene un defecto de tipo 1, ¿cuál es la probabilidad de que tenga los tres tipos de defectos?\n",
        "\n",
        "  $c$. Dado que el sistema tiene por lo menos un tipo de defecto, ¿cuál es la probabilidad de que tenga exactamente un tipo de defecto?\n",
        "\n",
        "  $d$. Dado que el sistema tiene los primeros dos tipos de defectos, ¿cuál es la probabilidad de que no tenga el tercer tipo de defecto?\n"
      ]
    },
    {
      "cell_type": "markdown",
      "metadata": {
        "id": "qlzxVmRq3uQ-"
      },
      "source": [
        "- Datos dados del ejericio *26*:\n",
        "\n",
        "  - $P(A_1) = 0.12$ $,$ \n",
        "\n",
        "  - $P(A_2) = 0.07$ $,$ \n",
        "\n",
        "  - $P(A_3) = 0.05$ $,$ \n",
        "\n",
        "  - $P(A_1 \\cup A_2) = 0.13$ $,$ \n",
        "\n",
        "  - $P(A_1 \\cup A_3) = 0.14$ $,$ \n",
        "\n",
        "  - $P(A_2 \\cup A_3) = 0.1$ $,$ \n",
        "\n",
        "  - $P(A_1 \\cap A_2 \\cap A_3) = 0.01$\n",
        "\n",
        "- $Solución:$\n",
        "  \n",
        "    - $a:$ \n",
        "    \n",
        "    $P(A_2|A_1) =$ $\\frac{(P(A_2 \\cap A_1))}{P(A_1)}$\n",
        "\n",
        "    $P(A_2 \\cap A_1) = P(A_2) + P(A_2) - P(A_1 \\cup A_2) = 0.12 + 0.07 - 0.13 = 0.06$\n",
        "\n",
        "    $P(A_2|A_1) =$ $\\frac{(P(A_2 \\cap A_1))}{P(A_1)}$$ = \\frac{0.06}{0.12} = \\frac{1}{2}$\n",
        "\n",
        "    - $b:$\n",
        "\n",
        "    $P(A_2 \\cap A_3 | A_1) = \\frac{P((A_2 \\cap A_3) \\cap A_1)}{P(A_1)} = \\frac{P(A_2 \\cap A_3 \\cap A_1)}{P(A_1)} = \\frac{0.01}{0.12} = \\frac{1}{12}$\n",
        "\n",
        "    - $c:$\n",
        "\n",
        "    \n"
      ]
    },
    {
      "cell_type": "markdown",
      "metadata": {
        "id": "lpKVBNEWDMhn"
      },
      "source": [
        "50. Una tienda de departamentos vende camisas sport en tres tallas ($chica$, $mediana$ y $grande$), tres diseños (a $cuadros$, $estampadas$ y a $rayas$) y dos largos de manga ($larga$ y $corta$). Las tablas adjuntas dan las proporciones de camisas vendidas en las combinaciones de categoría.\n",
        "\n",
        "La tabla de ventas de las camisas manga cortas:\n",
        "\n",
        "|Manga Corta |        |             |        |\n",
        "|---      |---        |---          |---     |\n",
        "|         |           |***Diseño*** |        |\n",
        "|$Talla$  | $Cuadros$ | $Estampada$ | $Rayas$|\n",
        "|**CH**   | 0.04      | 0.02        | 0.05   |\n",
        "|**M**    | 0.08      | 0.07        | 0.12   |\n",
        "|**G**    | 0.03      | 0.07        | 0.08   |\n",
        "\n",
        "- Ahora la tabla de ventas de camisas manga larga:\n",
        "\n",
        "|Manga Larga |        |             |        |\n",
        "|---      |---        |---          |---     |\n",
        "|         |           |***Diseño*** |        |\n",
        "|$Talla$  | $Cuadros$ | $Estampada$ | $Rayas$|\n",
        "|**CH**   | 0.03      | 0.02        | 0.03   |\n",
        "|**M**    | 0.10      | 0.05        | 0.07   |\n",
        "|**G**    | 0.04      | 0.02        | 0.08   |\n",
        "\n",
        "\n",
        "  $a.$ ¿Cuál es la probabilidad de que la siguiente camisa vendida sea una camisa mediana estampada de manga larga?\n",
        "\n",
        "  $b.$ ¿Cuál es la probabilidad de que la siguiente camisa vendida sea una camisa estampada mediana?\n",
        "\n",
        "  $c.$ ¿Cuál es la probabilidad de que la siguiente camisa vendida sea de manga corta? ¿De manga larga?\n",
        "\n",
        "  $d.$ ¿Cuál es la probabilidad de que la talla de la siguiente camisa vendida sea mediana? ¿Que la siguiente camisa vendida sea estampada?\n",
        "\n",
        "  $e.$ Dado que la camisa que se acaba de vender era de manga corta a cuadros, ¿cuál es la probabilidad de que fuera mediana?\n",
        "\n",
        "  $f.$ Dado que la camisa que se acaba de vender era mediana a cuadros, ¿cuál es la probabilidad de que fuera de manga corta? ¿De manga larga?\n"
      ]
    },
    {
      "cell_type": "markdown",
      "metadata": {
        "id": "oZOruLV5lhCV"
      },
      "source": [
        "- $Simbolos$ $dados$ $para$ $cada$ $evento$\n",
        "  - $MC:$ *$M$anga $C$orta*\n",
        "  - $ML:$ *$M$anga $L$arga*\n",
        "  - $E:$ *$E$stampado*\n",
        "  - $R:$ *$R$ayas*\n",
        "  - $C:$ *$C$uadros*\n",
        "  - $CH:$ *$CH$iquito*\n",
        "  - $M:$ *$M$edianito*\n",
        "  - $G:$ *$G$randesito*\n",
        "\n",
        "*   $Solución:$\n",
        "  *   $a:$ $P(ML\\cap E \\cap M) = 0.05$ *Al revisar la tabla podemos ver estos datos* \n",
        "  *   $b:$ $P(P(ML \\cap E \\cap M) \\cup P(MC \\cap E \\cap M)) = 0.07 + 0.05 = 0.12$ \n",
        "\n",
        "  *   $c:$\n",
        "  *   $d:$\n",
        "  *   $e:$\n",
        "  *   $f:$\n",
        "\n",
        "\n",
        "\n"
      ]
    },
    {
      "cell_type": "markdown",
      "metadata": {
        "id": "VmrppjHIz3_p"
      },
      "source": [
        "52. Un sistema se compone de bombas idénticas, #1 y #2. Si una falla, el sistema seguirá operando. Sin embargo, debido al esfuerzo adicional, ahora es más probable que la bomba restante falle de lo que era originalmente. Es decir, $r = P($#$2 falla | $#$1 falla) > P($#$2 falla) = q$. Si por lo menos una bomba falla alrededor del final de su vida útil en *7%* de todos los  sistemas y ambas bombas fallan durante dicho periodo en sólo *1%*, ¿cuál es la probabilidad de que la bomba *#1 falle* durante su vida útil de diseño? \n",
        "\n",
        "Solución:\n",
        "\n",
        "Asignamos $F_1$ para referirnos a #1 falla y $F_2$ para referirnos a #2 falla\n",
        "\n",
        "\\begin{equation*}\n",
        "  \\begin{split}\n",
        "  P(F_2\\cup F_1) &= 0.07\\\\\n",
        "  P(F_1\\cap F_2) &= 0.01\\\\\n",
        "  P(F_1) &= P(F_2)\\\\\n",
        "  2P(F_1) &= 0.01 + 0.07\\\\\n",
        "  \\frac{0.08}{2} &= 0.1429\n",
        "  \\end{split}\n",
        "\\end{equation*}"
      ]
    },
    {
      "cell_type": "markdown",
      "metadata": {
        "id": "TtnkxHYaVnEE"
      },
      "source": [
        "54. En el ejercicio 13, Ai  {proyecto otorgado i}, con i  1, 2, 3.\n",
        "Use las probabilidades dadas allí para calcular las siguientes probabilidades y explique en palabras el significado de\n",
        "cada una.\n",
        "a. P(A2°A1) b. P(A2  A3°A1) c. P(A2  A3°A1)\n",
        "d. P(A1  A2  A3°A1  A2  A3).\n",
        "\n",
        "Solución:\n",
        "\n",
        "    a. P(A2 | A1)                 \n",
        "\n",
        "       P(A1∩A2)=0.11\n",
        "       P(A1)=0.22\n",
        "       P(A2 | A1)=0.11/1.22=  0.5\n",
        "es la probabilidad que se otorgue el proyecto 2 dado que ya se otorgó el proyecto 1.\n",
        "\n",
        "    b. P(A2 n A3 | A1)\n",
        "\n",
        "        P(A2∩A3|A1)=0.01/0.22\n",
        "\n",
        "    c. P( A2 U A3 | A1 )\n",
        "\n",
        "       P( A2 U A3 | A1 )= 0.53/0.22=  2.409\n",
        "\n",
        "    d. P( A1 n A2 n A3  |  A1 U A2 U A3 ) "
      ]
    },
    {
      "cell_type": "markdown",
      "metadata": {
        "id": "VF6EEe049eOS"
      },
      "source": [
        "56. Para los eventos A y B con P(B) > 0, demuestre que P(A | B)\n",
        "+ P(A' | B) = 1\n",
        "\n",
        "Solución:\n",
        "(P(A).P(B))/P(B) + \n"
      ]
    },
    {
      "cell_type": "markdown",
      "metadata": {
        "id": "lC9Cp3-RQ1mz"
      },
      "source": [
        "60. El **70%** de las aeronaves ligeras que desaparecen en vuelo\n",
        "en cierto país son posteriormente localizadas. De las aeronaves que son localizadas, **60%** cuentan con un localizador\n",
        "de emergencia, mientras que **90%** de las aeronaves no localizadas no cuentan con dicho localizador. Suponga que una\n",
        "aeronave ligera ha desaparecido.\n",
        "   \n",
        "  AQUI COMO HAGO LA GRAFICA ? SOLO FALTA LA GRAFICA \n",
        "\n",
        "  $a:$ Si tiene un localizador de emergencia, ¿cuál es la probabilidad de que no sea localizada?\n",
        "\n",
        " $P(A´ \\cap B)$ = $0.3 * 0.1 = 0.03$\n",
        "\n",
        " $P(B)=$ $P(A´\\cap B)$ + $P(A \\cap B)$ = $(0.7 * 0.6) + (0.3 * 0.1) =0.45$ \n",
        "\n",
        "  $P(A´|B) =$ $\\frac{(P(A´ \\cap B))}{P(B)}$ = $\\frac{0.03}{0.45}$ = $0.067$\n",
        "\n",
        "    $b:$ Si no tiene un localizador de emergencia, ¿cuál es la\n",
        "probabilidad de que sea localizada?\n",
        "\n",
        " $P(A \\cap B´)$=$0.7 * 0.6 = 0.28$ \n",
        "\n",
        " $P(B´)$=$ P(A´ \\cap B´) + P(A \\cap B´)$=$ ( 0.3 * 0.9 ) + ( 0.7 * 0.4 ) = 0.55$ \n",
        "\n",
        " $P(A \\cap B´)$=$\\frac{(P(A \\cap B´))}{P(B´)}$ = $\\frac{0.28}{0.55}$ = $0.$\n"
      ]
    },
    {
      "cell_type": "markdown",
      "metadata": {
        "id": "0lBmpAfp-df9"
      },
      "source": [
        " 62. Una compañía que fabrica cámaras de video produce un modelo básico y un modelo de lujo. Durante el año pasado,\n",
        "40% de las cámaras vendidas fueron del modelo básico. De\n",
        "aquellos que compraron el modelo básico, 30% adquirieron\n",
        "una garantía ampliada, en tanto que 50% de los que compraron el modelo de lujo también lo hicieron. Si sabe que un\n",
        "comprador seleccionado al azar tiene una garantía ampliada,\n",
        "\n",
        "**¿qué tan probable es que él o ella tengan un modelo básico?**\n",
        "\n",
        "\n",
        "  $C= Camaras   Clasicas$\n",
        "\n",
        "  $L= Camaras de Lujo$ \n",
        "\n",
        "  $G= Garantia$ \n",
        " \n",
        "\n",
        " grafica \n",
        "\n",
        "\n",
        " \n",
        " $P(C |G)$=$ $ $\\frac{(P(C \\cap G))}{P(G)}$ = $\\frac{0.12}{0.42}$ = $0.2857$\n",
        "\n",
        "\n"
      ]
    },
    {
      "cell_type": "markdown",
      "metadata": {
        "id": "fd0e8T5cBiuh"
      },
      "source": [
        "64. En el ejemplo 2.30, suponga que la tasa de incidencia de la\n",
        "enfermedad es de 1 en 25 y no de 1 en 1000. ¿Cuál es entonces la probabilidad de un resultado de prueba positivo?\n",
        "Dado que el resultado de prueba es positivo, ¿cuál es la probabilidad de que el individuo tenga la enfermedad? Dado un\n",
        "resultado de prueba negativo, ¿cuál es la probabilidad de\n",
        "que el individuo no tenga la enfermedad?\n",
        "\n",
        " $E= Incidencia de la enfermedad$ \n",
        "\n",
        " $R= Resultado positivo$  \n",
        "\n",
        " $a$   Probabilidad de un resultado positivo\n",
        " \n",
        " $P(R_t)$=$P(E \\cap R) + P(E \\cap R´)$=$ (0.04 * 0.99) + (0.96 * 0.98) = 0.0588$ \n",
        "\n",
        "  $b$ Probabilidad de tener la enfermedad , si el resultado es positivo \n",
        "\n",
        "  $P(E|R) =$ $\\frac{P(E  \\cap  R)}{P(R_t)}$ = $\\frac{(0.04 * 0.99)}{0.0588} = 0.673$\n",
        "\n",
        "  $c$ La probabilidad de no tener la enfermedad si el resultado es negativo \n",
        "\n",
        "  $P(R´_t) = P( E \\cap R´) + (P(E´ \\cap R´ ) = ( 0.04 * 0.01 ) + (0.96 * 0.98) = 0.9412$ \n",
        "\n",
        "  $P(E´|R´)$=$ $ $\\frac{P(E´ \\cap R´))}{P(R´)}$ = $\\frac{(0.96 * 0.9408) }{0.4912}$ = $0.9996$\n",
        "\n",
        "\n",
        "\n",
        "\n",
        "\n",
        "\n"
      ]
    },
    {
      "cell_type": "markdown",
      "metadata": {
        "id": "ge8treVINxRy"
      },
      "source": [
        "66.Considere la siguiente información sobre vacacionistas (basada en parte en una encuesta reciente de Travelocity): 40%\n",
        "revisan su correo electrónico de trabajo, 30% utilizan un teléfono celular para permanecer en contacto con su trabajo,\n",
        "25% trajeron una computadora portátil consigo, 23% revisan\n",
        "su correo electrónico de trabajo y utilizan un teléfono celular\n",
        "para permanecer en contacto y 51% ni revisan su correo electrónico de trabajo ni utilizan un teléfono celular para permanecer en contacto ni trajeron consigo una computadora\n",
        "portátil. Además, 88 de cada 100 que traen una computadora portátil también revisan su correo electrónico de trabajo y\n",
        "70 de cada 100 que utilizan un teléfono celular para permanecer en contacto también traen una computadora portátil.\n",
        "\n",
        "$a$ ¿Cuál es la probabilidad de que un vacacionista seleccionado al azar que revisa su correo electrónico de trabajo también utilice un teléfono celular para permanecer\n",
        "en contacto.\n",
        "\n",
        "\n",
        "\n",
        "\n",
        "$b$ ¿Cuál es la probabilidad de que alguien que trae una\n",
        "computadora portátil también utilice un teléfono celular\n",
        "para permanecer en contacto.\n",
        "c. Si el vacacionista seleccionado al azar revisó su correo\n",
        "electrónico de trabajo y trajo una computadora portátil,\n",
        "¿cuál es la probabilidad de que él o ella utilice un teléfono celular para permanecer en contacto?\n"
      ]
    },
    {
      "cell_type": "markdown",
      "metadata": {
        "id": "vyypcLFOtp9v"
      },
      "source": [
        ""
      ]
    }
  ]
}